{
 "cells": [
  {
   "cell_type": "markdown",
   "id": "cad17136",
   "metadata": {},
   "source": [
    "# Aditya Pathania\n",
    "# A21002 \n",
    "# STS ET\n"
   ]
  },
  {
   "cell_type": "markdown",
   "id": "29795a80",
   "metadata": {},
   "source": [
    "# Research Question - The dataset provided for the loan amount  to check if the loan amount for the credit grade will have an impact on the amount value ,with provided the debt , borrower rate "
   ]
  },
  {
   "cell_type": "markdown",
   "id": "54ac1e0d",
   "metadata": {},
   "source": [
    "## First we will Import all the libraries that we will need"
   ]
  },
  {
   "cell_type": "code",
   "execution_count": 59,
   "id": "da994ada",
   "metadata": {},
   "outputs": [],
   "source": [
    "import pandas as pd\n",
    "import seaborn as sns\n",
    "import matplotlib.pyplot as plt\n",
    "import statistics as st\n",
    "from sklearn.linear_model import LinearRegression\n",
    "from sklearn.preprocessing import MinMaxScaler"
   ]
  },
  {
   "cell_type": "markdown",
   "id": "7f9902b5",
   "metadata": {},
   "source": [
    "## Importing our Dataset"
   ]
  },
  {
   "cell_type": "code",
   "execution_count": 2,
   "id": "044108ba",
   "metadata": {},
   "outputs": [],
   "source": [
    "df=pd.read_excel('STSET.xlsx')"
   ]
  },
  {
   "cell_type": "code",
   "execution_count": 6,
   "id": "220a96b6",
   "metadata": {},
   "outputs": [
    {
     "data": {
      "text/html": [
       "<div>\n",
       "<style scoped>\n",
       "    .dataframe tbody tr th:only-of-type {\n",
       "        vertical-align: middle;\n",
       "    }\n",
       "\n",
       "    .dataframe tbody tr th {\n",
       "        vertical-align: top;\n",
       "    }\n",
       "\n",
       "    .dataframe thead th {\n",
       "        text-align: right;\n",
       "    }\n",
       "</style>\n",
       "<table border=\"1\" class=\"dataframe\">\n",
       "  <thead>\n",
       "    <tr style=\"text-align: right;\">\n",
       "      <th></th>\n",
       "      <th>Status</th>\n",
       "      <th>Credit.Grade</th>\n",
       "      <th>Amount</th>\n",
       "      <th>Age</th>\n",
       "      <th>Borrower.Rate</th>\n",
       "      <th>Debt.To.Income.Ratio</th>\n",
       "    </tr>\n",
       "  </thead>\n",
       "  <tbody>\n",
       "    <tr>\n",
       "      <th>0</th>\n",
       "      <td>Current</td>\n",
       "      <td>C</td>\n",
       "      <td>5000</td>\n",
       "      <td>4</td>\n",
       "      <td>0.1500</td>\n",
       "      <td>0.040</td>\n",
       "    </tr>\n",
       "    <tr>\n",
       "      <th>1</th>\n",
       "      <td>Current</td>\n",
       "      <td>HR</td>\n",
       "      <td>1900</td>\n",
       "      <td>6</td>\n",
       "      <td>0.2650</td>\n",
       "      <td>0.020</td>\n",
       "    </tr>\n",
       "    <tr>\n",
       "      <th>2</th>\n",
       "      <td>Current</td>\n",
       "      <td>HR</td>\n",
       "      <td>1000</td>\n",
       "      <td>3</td>\n",
       "      <td>0.1500</td>\n",
       "      <td>0.020</td>\n",
       "    </tr>\n",
       "    <tr>\n",
       "      <th>3</th>\n",
       "      <td>Current</td>\n",
       "      <td>HR</td>\n",
       "      <td>1000</td>\n",
       "      <td>5</td>\n",
       "      <td>0.2900</td>\n",
       "      <td>0.020</td>\n",
       "    </tr>\n",
       "    <tr>\n",
       "      <th>4</th>\n",
       "      <td>Current</td>\n",
       "      <td>AA</td>\n",
       "      <td>2550</td>\n",
       "      <td>8</td>\n",
       "      <td>0.0795</td>\n",
       "      <td>0.033</td>\n",
       "    </tr>\n",
       "  </tbody>\n",
       "</table>\n",
       "</div>"
      ],
      "text/plain": [
       "    Status Credit.Grade  Amount  Age  Borrower.Rate  Debt.To.Income.Ratio\n",
       "0  Current            C    5000    4         0.1500                 0.040\n",
       "1  Current           HR    1900    6         0.2650                 0.020\n",
       "2  Current           HR    1000    3         0.1500                 0.020\n",
       "3  Current           HR    1000    5         0.2900                 0.020\n",
       "4  Current           AA    2550    8         0.0795                 0.033"
      ]
     },
     "execution_count": 6,
     "metadata": {},
     "output_type": "execute_result"
    }
   ],
   "source": [
    "df.head()"
   ]
  },
  {
   "cell_type": "markdown",
   "id": "0ef6ffc0",
   "metadata": {},
   "source": [
    "## Here we can clearly see our dataset with more over looks like a banking or loan data set , in which we have amount of loan for various people and there borrower rate plus debt to income rate as well "
   ]
  },
  {
   "cell_type": "markdown",
   "id": "ee6eaa08",
   "metadata": {},
   "source": [
    "### We will check for the null values in the dataset"
   ]
  },
  {
   "cell_type": "code",
   "execution_count": 7,
   "id": "891bcfc5",
   "metadata": {},
   "outputs": [
    {
     "data": {
      "text/plain": [
       "Status                  0\n",
       "Credit.Grade            0\n",
       "Amount                  0\n",
       "Age                     0\n",
       "Borrower.Rate           0\n",
       "Debt.To.Income.Ratio    0\n",
       "dtype: int64"
      ]
     },
     "execution_count": 7,
     "metadata": {},
     "output_type": "execute_result"
    }
   ],
   "source": [
    "df.isnull().sum()"
   ]
  },
  {
   "cell_type": "markdown",
   "id": "f4f87a59",
   "metadata": {},
   "source": [
    "As we can see there are no null values in the dataset"
   ]
  },
  {
   "cell_type": "markdown",
   "id": "6f8cd485",
   "metadata": {},
   "source": [
    "## Numerical Data -Analysis"
   ]
  },
  {
   "cell_type": "code",
   "execution_count": 9,
   "id": "5e558e7b",
   "metadata": {},
   "outputs": [
    {
     "data": {
      "text/plain": [
       "(array([ 5., 12.,  2.,  0.,  5.,  2.,  6.,  7.,  5.,  6.]),\n",
       " array([0.05 , 0.074, 0.098, 0.122, 0.146, 0.17 , 0.194, 0.218, 0.242,\n",
       "        0.266, 0.29 ]),\n",
       " <BarContainer object of 10 artists>)"
      ]
     },
     "execution_count": 9,
     "metadata": {},
     "output_type": "execute_result"
    },
    {
     "data": {
      "image/png": "[encoded data removed]",
      "text/plain": [
       "<Figure size 432x288 with 1 Axes>"
      ]
     },
     "metadata": {
      "needs_background": "light"
     },
     "output_type": "display_data"
    }
   ],
   "source": [
    "plt.hist(df['Borrower.Rate'])"
   ]
  },
  {
   "cell_type": "markdown",
   "id": "df41da5b",
   "metadata": {},
   "source": [
    "Here we get the count of the Borrower rate , it is clear that most of the borrower rate has the count of 12 lying between 0.074,0.098 for the better understanding of skewness we will plot thebox plot and check the quartile values "
   ]
  },
  {
   "cell_type": "code",
   "execution_count": 10,
   "id": "6db185b2",
   "metadata": {},
   "outputs": [
    {
     "data": {
      "text/plain": [
       "count    50.000000\n",
       "mean      0.169364\n",
       "std       0.079238\n",
       "min       0.050000\n",
       "25%       0.085000\n",
       "50%       0.183750\n",
       "75%       0.237500\n",
       "max       0.290000\n",
       "Name: Borrower.Rate, dtype: float64"
      ]
     },
     "execution_count": 10,
     "metadata": {},
     "output_type": "execute_result"
    }
   ],
   "source": [
    "df['Borrower.Rate'].describe()"
   ]
  },
  {
   "cell_type": "code",
   "execution_count": 13,
   "id": "cfa1566e",
   "metadata": {},
   "outputs": [
    {
     "data": {
      "text/plain": [
       "[0.084975, 0.18375, 0.23812499999999998]"
      ]
     },
     "execution_count": 13,
     "metadata": {},
     "output_type": "execute_result"
    }
   ],
   "source": [
    "st.quantiles(df['Borrower.Rate'])"
   ]
  },
  {
   "cell_type": "markdown",
   "id": "f0f13891",
   "metadata": {},
   "source": [
    "As per the calculated values we can see that the minumum values as per the cis 0.05 and max is 0.29 as seen in the box plot below.hence it will work for the box plot , the mean values= 0.169364. standard deviation = 0.079238, count -50"
   ]
  },
  {
   "cell_type": "code",
   "execution_count": 14,
   "id": "9fb2fd20",
   "metadata": {},
   "outputs": [
    {
     "data": {
      "text/plain": [
       "<AxesSubplot:xlabel='Borrower.Rate'>"
      ]
     },
     "execution_count": 14,
     "metadata": {},
     "output_type": "execute_result"
    },
    {
     "data": {
      "image/png": "[encoded data removed]",
      "text/plain": [
       "<Figure size 432x288 with 1 Axes>"
      ]
     },
     "metadata": {
      "needs_background": "light"
     },
     "output_type": "display_data"
    }
   ],
   "source": [
    "sns.boxplot(x='Borrower.Rate',data=df)"
   ]
  },
  {
   "cell_type": "markdown",
   "id": "02f761f3",
   "metadata": {},
   "source": [
    "from the above plot as per the quartiles the most of the data set is on the left of the box , the data is left skewed , and there are no outliers as seen."
   ]
  },
  {
   "cell_type": "code",
   "execution_count": 15,
   "id": "3ba7575a",
   "metadata": {},
   "outputs": [
    {
     "data": {
      "text/plain": [
       "(array([ 1.,  0., 11.,  3.,  2., 14.,  0., 13.,  1.,  5.]),\n",
       " array([0.   , 0.004, 0.008, 0.012, 0.016, 0.02 , 0.024, 0.028, 0.032,\n",
       "        0.036, 0.04 ]),\n",
       " <BarContainer object of 10 artists>)"
      ]
     },
     "execution_count": 15,
     "metadata": {},
     "output_type": "execute_result"
    },
    {
     "data": {
      "image/png": "[encoded data removed]",
      "text/plain": [
       "<Figure size 432x288 with 1 Axes>"
      ]
     },
     "metadata": {
      "needs_background": "light"
     },
     "output_type": "display_data"
    }
   ],
   "source": [
    "plt.hist(df['Debt.To.Income.Ratio'])"
   ]
  },
  {
   "cell_type": "markdown",
   "id": "53004c3c",
   "metadata": {},
   "source": [
    "As per the hist plot we can see the count of as the max count 13 is lying between 0.02. ,  0.024 "
   ]
  },
  {
   "cell_type": "code",
   "execution_count": 17,
   "id": "2c31864c",
   "metadata": {},
   "outputs": [
    {
     "data": {
      "text/plain": [
       "count    50.000000\n",
       "mean      0.021920\n",
       "std       0.010089\n",
       "min       0.000000\n",
       "25%       0.013000\n",
       "50%       0.020000\n",
       "75%       0.030000\n",
       "max       0.040000\n",
       "Name: Debt.To.Income.Ratio, dtype: float64"
      ]
     },
     "execution_count": 17,
     "metadata": {},
     "output_type": "execute_result"
    }
   ],
   "source": [
    "df['Debt.To.Income.Ratio'].describe()"
   ]
  },
  {
   "cell_type": "code",
   "execution_count": 19,
   "id": "c5ad0de2",
   "metadata": {},
   "outputs": [
    {
     "data": {
      "text/plain": [
       "[0.01225, 0.02, 0.03]"
      ]
     },
     "execution_count": 19,
     "metadata": {},
     "output_type": "execute_result"
    }
   ],
   "source": [
    "st.quantiles(df['Debt.To.Income.Ratio'])"
   ]
  },
  {
   "cell_type": "markdown",
   "id": "df48a1b4",
   "metadata": {},
   "source": [
    "As per the calculation we can see that the minimum comes out to be 0.00 and the max is 0.040 which can be cleared from the data , we can plot a box to check the outliers and the quartiles"
   ]
  },
  {
   "cell_type": "code",
   "execution_count": 20,
   "id": "094470e4",
   "metadata": {},
   "outputs": [
    {
     "data": {
      "text/plain": [
       "<AxesSubplot:xlabel='Debt.To.Income.Ratio'>"
      ]
     },
     "execution_count": 20,
     "metadata": {},
     "output_type": "execute_result"
    },
    {
     "data": {
      "image/png": "[encoded data removed]",
      "text/plain": [
       "<Figure size 432x288 with 1 Axes>"
      ]
     },
     "metadata": {
      "needs_background": "light"
     },
     "output_type": "display_data"
    }
   ],
   "source": [
    "sns.boxplot(x='Debt.To.Income.Ratio',data=df)"
   ]
  },
  {
   "cell_type": "markdown",
   "id": "70ae5f65",
   "metadata": {},
   "source": [
    "from here we can see that there is just a single or just a bit of data to the right side of the median , though it is little bit right side but can see it is no less that evenly distributed"
   ]
  },
  {
   "cell_type": "code",
   "execution_count": 21,
   "id": "82b3e174",
   "metadata": {},
   "outputs": [
    {
     "data": {
      "text/plain": [
       "(array([25.,  8.,  7.,  6.,  0.,  0.,  3.,  0.,  0.,  1.]),\n",
       " array([1000., 1650., 2300., 2950., 3600., 4250., 4900., 5550., 6200.,\n",
       "        6850., 7500.]),\n",
       " <BarContainer object of 10 artists>)"
      ]
     },
     "execution_count": 21,
     "metadata": {},
     "output_type": "execute_result"
    },
    {
     "data": {
      "image/png": "[encoded data removed]",
      "text/plain": [
       "<Figure size 432x288 with 1 Axes>"
      ]
     },
     "metadata": {
      "needs_background": "light"
     },
     "output_type": "display_data"
    }
   ],
   "source": [
    "plt.hist(df['Amount'])"
   ]
  },
  {
   "cell_type": "markdown",
   "id": "e260a41b",
   "metadata": {},
   "source": [
    "As per the hist we can see that the max count for the data is 1000-1650 and is 25 . although in the data it can be seen that it is right skewed , we will also check for the outliers using box plot "
   ]
  },
  {
   "cell_type": "code",
   "execution_count": 22,
   "id": "d82a7b6b",
   "metadata": {},
   "outputs": [
    {
     "data": {
      "text/plain": [
       "[1000.0, 1600.0, 2550.0]"
      ]
     },
     "execution_count": 22,
     "metadata": {},
     "output_type": "execute_result"
    }
   ],
   "source": [
    "st.quantiles(df['Amount'])"
   ]
  },
  {
   "cell_type": "code",
   "execution_count": 23,
   "id": "4c5378c4",
   "metadata": {},
   "outputs": [
    {
     "data": {
      "text/plain": [
       "count      50.000000\n",
       "mean     2005.420000\n",
       "std      1331.252534\n",
       "min      1000.000000\n",
       "25%      1000.000000\n",
       "50%      1600.000000\n",
       "75%      2537.500000\n",
       "max      7500.000000\n",
       "Name: Amount, dtype: float64"
      ]
     },
     "execution_count": 23,
     "metadata": {},
     "output_type": "execute_result"
    }
   ],
   "source": [
    "df['Amount'].describe()"
   ]
  },
  {
   "cell_type": "markdown",
   "id": "59610673",
   "metadata": {},
   "source": [
    "as per the data the minumum calculated is 1000 , remember as we take the minumum of the either the data or the calculated from the quartile formula , Q1-1.5(IQR) , here the q1 is 1000, and min cannot go below 1000, as per the dataset the min is same for the q1-1000. as per the dataset the max is 7500 , let us plot a box to check this , "
   ]
  },
  {
   "cell_type": "code",
   "execution_count": 24,
   "id": "c09b2f32",
   "metadata": {},
   "outputs": [
    {
     "data": {
      "text/plain": [
       "<AxesSubplot:xlabel='Amount'>"
      ]
     },
     "execution_count": 24,
     "metadata": {},
     "output_type": "execute_result"
    },
    {
     "data": {
      "image/png": "[encoded data removed]",
      "text/plain": [
       "<Figure size 432x288 with 1 Axes>"
      ]
     },
     "metadata": {
      "needs_background": "light"
     },
     "output_type": "display_data"
    }
   ],
   "source": [
    "sns.boxplot(x='Amount',data=df)"
   ]
  },
  {
   "cell_type": "markdown",
   "id": "2acbd467",
   "metadata": {},
   "source": [
    "looking above we can see that the max for the plot is = 3000 , done by Q3+1.5 (IQR) , and all the data above is outliers \n",
    "and it can be seen that the data is right skewed "
   ]
  },
  {
   "cell_type": "code",
   "execution_count": 25,
   "id": "8c779e17",
   "metadata": {},
   "outputs": [
    {
     "data": {
      "text/plain": [
       "(array([8., 1., 7., 3., 5., 7., 5., 8., 2., 4.]),\n",
       " array([ 1. ,  1.9,  2.8,  3.7,  4.6,  5.5,  6.4,  7.3,  8.2,  9.1, 10. ]),\n",
       " <BarContainer object of 10 artists>)"
      ]
     },
     "execution_count": 25,
     "metadata": {},
     "output_type": "execute_result"
    },
    {
     "data": {
      "image/png": "[encoded data removed]",
      "text/plain": [
       "<Figure size 432x288 with 1 Axes>"
      ]
     },
     "metadata": {
      "needs_background": "light"
     },
     "output_type": "display_data"
    }
   ],
   "source": [
    "plt.hist(df['Age'])"
   ]
  },
  {
   "cell_type": "markdown",
   "id": "1ddb5b43",
   "metadata": {},
   "source": [
    "As per the hist we can see that the max count is 8 at 2 ranges (1-1.9 )and (7.3-8.2), the max is 10 and the min is 1\n",
    "let us check the quartiles and the box plot for the skewness"
   ]
  },
  {
   "cell_type": "code",
   "execution_count": 26,
   "id": "9b4ccf3c",
   "metadata": {},
   "outputs": [
    {
     "data": {
      "text/plain": [
       "count    50.000000\n",
       "mean      5.340000\n",
       "std       2.832825\n",
       "min       1.000000\n",
       "25%       3.000000\n",
       "50%       6.000000\n",
       "75%       8.000000\n",
       "max      10.000000\n",
       "Name: Age, dtype: float64"
      ]
     },
     "execution_count": 26,
     "metadata": {},
     "output_type": "execute_result"
    }
   ],
   "source": [
    "df['Age'].describe()"
   ]
  },
  {
   "cell_type": "markdown",
   "id": "2675937b",
   "metadata": {},
   "source": [
    "As per the describe  the min and the max is 1.10 , which is same as the data set min max"
   ]
  },
  {
   "cell_type": "code",
   "execution_count": 27,
   "id": "4a563c3a",
   "metadata": {},
   "outputs": [
    {
     "data": {
      "text/plain": [
       "[3.0, 6.0, 8.0]"
      ]
     },
     "execution_count": 27,
     "metadata": {},
     "output_type": "execute_result"
    }
   ],
   "source": [
    "st.quantiles(df['Age'])"
   ]
  },
  {
   "cell_type": "code",
   "execution_count": 28,
   "id": "82dbb195",
   "metadata": {},
   "outputs": [
    {
     "data": {
      "text/plain": [
       "<AxesSubplot:xlabel='Age'>"
      ]
     },
     "execution_count": 28,
     "metadata": {},
     "output_type": "execute_result"
    },
    {
     "data": {
      "image/png": "[encoded data removed]",
      "text/plain": [
       "<Figure size 432x288 with 1 Axes>"
      ]
     },
     "metadata": {
      "needs_background": "light"
     },
     "output_type": "display_data"
    }
   ],
   "source": [
    "sns.boxplot(x='Age',data=df)"
   ]
  },
  {
   "cell_type": "markdown",
   "id": "18ada449",
   "metadata": {},
   "source": [
    "As per the graph we can see that the min point and the max point are the same as the data for the Age , the skewness is on the left side "
   ]
  },
  {
   "cell_type": "markdown",
   "id": "11dd64cd",
   "metadata": {},
   "source": [
    "## Categorical Data"
   ]
  },
  {
   "cell_type": "code",
   "execution_count": 29,
   "id": "d9fa57d7",
   "metadata": {},
   "outputs": [
    {
     "data": {
      "text/plain": [
       "<AxesSubplot:xlabel='Credit.Grade', ylabel='count'>"
      ]
     },
     "execution_count": 29,
     "metadata": {},
     "output_type": "execute_result"
    },
    {
     "data": {
      "image/png": "[encoded data removed]",
      "text/plain": [
       "<Figure size 432x288 with 1 Axes>"
      ]
     },
     "metadata": {
      "needs_background": "light"
     },
     "output_type": "display_data"
    }
   ],
   "source": [
    "sns.countplot(x='Credit.Grade',data=df)"
   ]
  },
  {
   "cell_type": "markdown",
   "id": "f26da5d3",
   "metadata": {},
   "source": [
    "the plot shows us that the HR category has the max credit grade with the count as 20"
   ]
  },
  {
   "cell_type": "code",
   "execution_count": 30,
   "id": "3ce8de64",
   "metadata": {},
   "outputs": [
    {
     "data": {
      "text/plain": [
       "<AxesSubplot:xlabel='Status', ylabel='count'>"
      ]
     },
     "execution_count": 30,
     "metadata": {},
     "output_type": "execute_result"
    },
    {
     "data": {
      "image/png": "[encoded data removed]",
      "text/plain": [
       "<Figure size 432x288 with 1 Axes>"
      ]
     },
     "metadata": {
      "needs_background": "light"
     },
     "output_type": "display_data"
    }
   ],
   "source": [
    "sns.countplot(x='Status',data=df)"
   ]
  },
  {
   "cell_type": "markdown",
   "id": "bf1c441e",
   "metadata": {},
   "source": [
    "The above data with the default and the late can be ignored as the count as nearly equal to 0 "
   ]
  },
  {
   "cell_type": "markdown",
   "id": "cd9d6d11",
   "metadata": {},
   "source": [
    "## further we can check the relation between age and the amount though both the data's are numerical but age can be taken as categorical , as there are various similar values for the loan amount"
   ]
  },
  {
   "cell_type": "code",
   "execution_count": 31,
   "id": "df5cb3ac",
   "metadata": {},
   "outputs": [
    {
     "data": {
      "text/plain": [
       "<BarContainer object of 50 artists>"
      ]
     },
     "execution_count": 31,
     "metadata": {},
     "output_type": "execute_result"
    },
    {
     "data": {
      "image/png": "[encoded data removed]",
      "text/plain": [
       "<Figure size 432x288 with 1 Axes>"
      ]
     },
     "metadata": {
      "needs_background": "light"
     },
     "output_type": "display_data"
    }
   ],
   "source": [
    "plt.bar(df['Age'],df['Amount'])"
   ]
  },
  {
   "cell_type": "markdown",
   "id": "01f969aa",
   "metadata": {},
   "source": [
    "We can see that the diff age can have different amount values "
   ]
  },
  {
   "cell_type": "markdown",
   "id": "c22a3d10",
   "metadata": {},
   "source": [
    "## this will not be a good representation to be said , we can take a mean of the amount and divide it to various age categories and check the plot "
   ]
  },
  {
   "cell_type": "code",
   "execution_count": 32,
   "id": "3823aa5e",
   "metadata": {},
   "outputs": [],
   "source": [
    "m_amount=pd.pivot_table(df,index='Age',values='Amount')"
   ]
  },
  {
   "cell_type": "code",
   "execution_count": 33,
   "id": "4caaf3a2",
   "metadata": {},
   "outputs": [
    {
     "data": {
      "text/html": [
       "<div>\n",
       "<style scoped>\n",
       "    .dataframe tbody tr th:only-of-type {\n",
       "        vertical-align: middle;\n",
       "    }\n",
       "\n",
       "    .dataframe tbody tr th {\n",
       "        vertical-align: top;\n",
       "    }\n",
       "\n",
       "    .dataframe thead th {\n",
       "        text-align: right;\n",
       "    }\n",
       "</style>\n",
       "<table border=\"1\" class=\"dataframe\">\n",
       "  <thead>\n",
       "    <tr style=\"text-align: right;\">\n",
       "      <th></th>\n",
       "      <th>Amount</th>\n",
       "    </tr>\n",
       "    <tr>\n",
       "      <th>Age</th>\n",
       "      <th></th>\n",
       "    </tr>\n",
       "  </thead>\n",
       "  <tbody>\n",
       "    <tr>\n",
       "      <th>1</th>\n",
       "      <td>1781.250000</td>\n",
       "    </tr>\n",
       "    <tr>\n",
       "      <th>2</th>\n",
       "      <td>1500.000000</td>\n",
       "    </tr>\n",
       "    <tr>\n",
       "      <th>3</th>\n",
       "      <td>1485.714286</td>\n",
       "    </tr>\n",
       "    <tr>\n",
       "      <th>4</th>\n",
       "      <td>2666.666667</td>\n",
       "    </tr>\n",
       "    <tr>\n",
       "      <th>5</th>\n",
       "      <td>2334.000000</td>\n",
       "    </tr>\n",
       "    <tr>\n",
       "      <th>6</th>\n",
       "      <td>2093.000000</td>\n",
       "    </tr>\n",
       "    <tr>\n",
       "      <th>7</th>\n",
       "      <td>1830.000000</td>\n",
       "    </tr>\n",
       "    <tr>\n",
       "      <th>8</th>\n",
       "      <td>2331.250000</td>\n",
       "    </tr>\n",
       "    <tr>\n",
       "      <th>9</th>\n",
       "      <td>3000.000000</td>\n",
       "    </tr>\n",
       "    <tr>\n",
       "      <th>10</th>\n",
       "      <td>1500.000000</td>\n",
       "    </tr>\n",
       "  </tbody>\n",
       "</table>\n",
       "</div>"
      ],
      "text/plain": [
       "          Amount\n",
       "Age             \n",
       "1    1781.250000\n",
       "2    1500.000000\n",
       "3    1485.714286\n",
       "4    2666.666667\n",
       "5    2334.000000\n",
       "6    2093.000000\n",
       "7    1830.000000\n",
       "8    2331.250000\n",
       "9    3000.000000\n",
       "10   1500.000000"
      ]
     },
     "execution_count": 33,
     "metadata": {},
     "output_type": "execute_result"
    }
   ],
   "source": [
    "m_amount"
   ]
  },
  {
   "cell_type": "markdown",
   "id": "f68ef3cc",
   "metadata": {},
   "source": [
    "Different age categories here shows the diff mean value of the amount"
   ]
  },
  {
   "cell_type": "code",
   "execution_count": 36,
   "id": "0ad63f24",
   "metadata": {},
   "outputs": [
    {
     "data": {
      "text/plain": [
       "<AxesSubplot:xlabel='Age'>"
      ]
     },
     "execution_count": 36,
     "metadata": {},
     "output_type": "execute_result"
    },
    {
     "data": {
      "image/png": "[encoded data removed]",
      "text/plain": [
       "<Figure size 432x288 with 1 Axes>"
      ]
     },
     "metadata": {
      "needs_background": "light"
     },
     "output_type": "display_data"
    }
   ],
   "source": [
    "m_amount.plot(kind='bar')"
   ]
  },
  {
   "cell_type": "markdown",
   "id": "0680227d",
   "metadata": {},
   "source": [
    "It can be clearly seen that the age tenure for 9 years has the max mean amount among the dataset , we can check by using the quartiles and the box plot as in how the data is distributed"
   ]
  },
  {
   "cell_type": "code",
   "execution_count": 37,
   "id": "b04dfae7",
   "metadata": {},
   "outputs": [
    {
     "data": {
      "text/html": [
       "<div>\n",
       "<style scoped>\n",
       "    .dataframe tbody tr th:only-of-type {\n",
       "        vertical-align: middle;\n",
       "    }\n",
       "\n",
       "    .dataframe tbody tr th {\n",
       "        vertical-align: top;\n",
       "    }\n",
       "\n",
       "    .dataframe thead th {\n",
       "        text-align: right;\n",
       "    }\n",
       "</style>\n",
       "<table border=\"1\" class=\"dataframe\">\n",
       "  <thead>\n",
       "    <tr style=\"text-align: right;\">\n",
       "      <th></th>\n",
       "      <th>Amount</th>\n",
       "    </tr>\n",
       "  </thead>\n",
       "  <tbody>\n",
       "    <tr>\n",
       "      <th>count</th>\n",
       "      <td>10.000000</td>\n",
       "    </tr>\n",
       "    <tr>\n",
       "      <th>mean</th>\n",
       "      <td>2052.188095</td>\n",
       "    </tr>\n",
       "    <tr>\n",
       "      <th>std</th>\n",
       "      <td>525.820142</td>\n",
       "    </tr>\n",
       "    <tr>\n",
       "      <th>min</th>\n",
       "      <td>1485.714286</td>\n",
       "    </tr>\n",
       "    <tr>\n",
       "      <th>25%</th>\n",
       "      <td>1570.312500</td>\n",
       "    </tr>\n",
       "    <tr>\n",
       "      <th>50%</th>\n",
       "      <td>1961.500000</td>\n",
       "    </tr>\n",
       "    <tr>\n",
       "      <th>75%</th>\n",
       "      <td>2333.312500</td>\n",
       "    </tr>\n",
       "    <tr>\n",
       "      <th>max</th>\n",
       "      <td>3000.000000</td>\n",
       "    </tr>\n",
       "  </tbody>\n",
       "</table>\n",
       "</div>"
      ],
      "text/plain": [
       "            Amount\n",
       "count    10.000000\n",
       "mean   2052.188095\n",
       "std     525.820142\n",
       "min    1485.714286\n",
       "25%    1570.312500\n",
       "50%    1961.500000\n",
       "75%    2333.312500\n",
       "max    3000.000000"
      ]
     },
     "execution_count": 37,
     "metadata": {},
     "output_type": "execute_result"
    }
   ],
   "source": [
    "m_amount.describe()"
   ]
  },
  {
   "cell_type": "code",
   "execution_count": 38,
   "id": "ade5b281",
   "metadata": {},
   "outputs": [
    {
     "data": {
      "text/plain": [
       "<AxesSubplot:>"
      ]
     },
     "execution_count": 38,
     "metadata": {},
     "output_type": "execute_result"
    },
    {
     "data": {
      "image/png": "[encoded data removed]",
      "text/plain": [
       "<Figure size 432x288 with 1 Axes>"
      ]
     },
     "metadata": {
      "needs_background": "light"
     },
     "output_type": "display_data"
    }
   ],
   "source": [
    "m_amount.plot(kind='box')"
   ]
  },
  {
   "cell_type": "markdown",
   "id": "1d132999",
   "metadata": {},
   "source": [
    "We can clearly see the right skewness of the data"
   ]
  },
  {
   "cell_type": "markdown",
   "id": "5f68df92",
   "metadata": {},
   "source": [
    "SAME FOR CREDIT And AMOUNT VS CREDIT GRADE"
   ]
  },
  {
   "cell_type": "code",
   "execution_count": 40,
   "id": "0b748b69",
   "metadata": {},
   "outputs": [],
   "source": [
    "c_amount=pd.pivot_table(df,index='Credit.Grade',values='Amount')"
   ]
  },
  {
   "cell_type": "code",
   "execution_count": 41,
   "id": "2c8c4324",
   "metadata": {},
   "outputs": [
    {
     "data": {
      "text/html": [
       "<div>\n",
       "<style scoped>\n",
       "    .dataframe tbody tr th:only-of-type {\n",
       "        vertical-align: middle;\n",
       "    }\n",
       "\n",
       "    .dataframe tbody tr th {\n",
       "        vertical-align: top;\n",
       "    }\n",
       "\n",
       "    .dataframe thead th {\n",
       "        text-align: right;\n",
       "    }\n",
       "</style>\n",
       "<table border=\"1\" class=\"dataframe\">\n",
       "  <thead>\n",
       "    <tr style=\"text-align: right;\">\n",
       "      <th></th>\n",
       "      <th>Amount</th>\n",
       "    </tr>\n",
       "    <tr>\n",
       "      <th>Credit.Grade</th>\n",
       "      <th></th>\n",
       "    </tr>\n",
       "  </thead>\n",
       "  <tbody>\n",
       "    <tr>\n",
       "      <th>A</th>\n",
       "      <td>2800.000000</td>\n",
       "    </tr>\n",
       "    <tr>\n",
       "      <th>AA</th>\n",
       "      <td>2740.909091</td>\n",
       "    </tr>\n",
       "    <tr>\n",
       "      <th>B</th>\n",
       "      <td>2133.333333</td>\n",
       "    </tr>\n",
       "    <tr>\n",
       "      <th>C</th>\n",
       "      <td>3000.000000</td>\n",
       "    </tr>\n",
       "    <tr>\n",
       "      <th>D</th>\n",
       "      <td>2000.000000</td>\n",
       "    </tr>\n",
       "    <tr>\n",
       "      <th>E</th>\n",
       "      <td>1660.000000</td>\n",
       "    </tr>\n",
       "    <tr>\n",
       "      <th>HR</th>\n",
       "      <td>1446.050000</td>\n",
       "    </tr>\n",
       "    <tr>\n",
       "      <th>NC</th>\n",
       "      <td>1250.000000</td>\n",
       "    </tr>\n",
       "  </tbody>\n",
       "</table>\n",
       "</div>"
      ],
      "text/plain": [
       "                   Amount\n",
       "Credit.Grade             \n",
       "A             2800.000000\n",
       "AA            2740.909091\n",
       "B             2133.333333\n",
       "C             3000.000000\n",
       "D             2000.000000\n",
       "E             1660.000000\n",
       "HR            1446.050000\n",
       "NC            1250.000000"
      ]
     },
     "execution_count": 41,
     "metadata": {},
     "output_type": "execute_result"
    }
   ],
   "source": [
    "c_amount"
   ]
  },
  {
   "cell_type": "code",
   "execution_count": 42,
   "id": "656bfa28",
   "metadata": {},
   "outputs": [
    {
     "data": {
      "text/plain": [
       "<AxesSubplot:xlabel='Credit.Grade'>"
      ]
     },
     "execution_count": 42,
     "metadata": {},
     "output_type": "execute_result"
    },
    {
     "data": {
      "image/png": "[encoded data removed]",
      "text/plain": [
       "<Figure size 432x288 with 1 Axes>"
      ]
     },
     "metadata": {
      "needs_background": "light"
     },
     "output_type": "display_data"
    }
   ],
   "source": [
    "c_amount.plot(kind='bar')"
   ]
  },
  {
   "cell_type": "markdown",
   "id": "cff92668",
   "metadata": {},
   "source": [
    "The credit grade c has the max mean amount"
   ]
  },
  {
   "cell_type": "code",
   "execution_count": 43,
   "id": "5cee597b",
   "metadata": {},
   "outputs": [
    {
     "data": {
      "text/html": [
       "<div>\n",
       "<style scoped>\n",
       "    .dataframe tbody tr th:only-of-type {\n",
       "        vertical-align: middle;\n",
       "    }\n",
       "\n",
       "    .dataframe tbody tr th {\n",
       "        vertical-align: top;\n",
       "    }\n",
       "\n",
       "    .dataframe thead th {\n",
       "        text-align: right;\n",
       "    }\n",
       "</style>\n",
       "<table border=\"1\" class=\"dataframe\">\n",
       "  <thead>\n",
       "    <tr style=\"text-align: right;\">\n",
       "      <th></th>\n",
       "      <th>Amount</th>\n",
       "    </tr>\n",
       "  </thead>\n",
       "  <tbody>\n",
       "    <tr>\n",
       "      <th>count</th>\n",
       "      <td>8.000000</td>\n",
       "    </tr>\n",
       "    <tr>\n",
       "      <th>mean</th>\n",
       "      <td>2128.786553</td>\n",
       "    </tr>\n",
       "    <tr>\n",
       "      <th>std</th>\n",
       "      <td>661.059415</td>\n",
       "    </tr>\n",
       "    <tr>\n",
       "      <th>min</th>\n",
       "      <td>1250.000000</td>\n",
       "    </tr>\n",
       "    <tr>\n",
       "      <th>25%</th>\n",
       "      <td>1606.512500</td>\n",
       "    </tr>\n",
       "    <tr>\n",
       "      <th>50%</th>\n",
       "      <td>2066.666667</td>\n",
       "    </tr>\n",
       "    <tr>\n",
       "      <th>75%</th>\n",
       "      <td>2755.681818</td>\n",
       "    </tr>\n",
       "    <tr>\n",
       "      <th>max</th>\n",
       "      <td>3000.000000</td>\n",
       "    </tr>\n",
       "  </tbody>\n",
       "</table>\n",
       "</div>"
      ],
      "text/plain": [
       "            Amount\n",
       "count     8.000000\n",
       "mean   2128.786553\n",
       "std     661.059415\n",
       "min    1250.000000\n",
       "25%    1606.512500\n",
       "50%    2066.666667\n",
       "75%    2755.681818\n",
       "max    3000.000000"
      ]
     },
     "execution_count": 43,
     "metadata": {},
     "output_type": "execute_result"
    }
   ],
   "source": [
    "c_amount.describe()"
   ]
  },
  {
   "cell_type": "code",
   "execution_count": 44,
   "id": "a461fed1",
   "metadata": {},
   "outputs": [
    {
     "data": {
      "text/plain": [
       "<AxesSubplot:>"
      ]
     },
     "execution_count": 44,
     "metadata": {},
     "output_type": "execute_result"
    },
    {
     "data": {
      "image/png": "[encoded data removed]",
      "text/plain": [
       "<Figure size 432x288 with 1 Axes>"
      ]
     },
     "metadata": {
      "needs_background": "light"
     },
     "output_type": "display_data"
    }
   ],
   "source": [
    "c_amount .plot(kind='box')"
   ]
  },
  {
   "cell_type": "markdown",
   "id": "75f6057c",
   "metadata": {},
   "source": [
    "The data more over looks like a right skewed data"
   ]
  },
  {
   "cell_type": "code",
   "execution_count": 45,
   "id": "47a54971",
   "metadata": {},
   "outputs": [],
   "source": [
    "c_age=pd.pivot_table(df,index='Credit.Grade',values='Age')"
   ]
  },
  {
   "cell_type": "code",
   "execution_count": 46,
   "id": "c626d73b",
   "metadata": {},
   "outputs": [
    {
     "data": {
      "text/plain": [
       "<AxesSubplot:xlabel='Credit.Grade'>"
      ]
     },
     "execution_count": 46,
     "metadata": {},
     "output_type": "execute_result"
    },
    {
     "data": {
      "image/png": "[encoded data removed]",
      "text/plain": [
       "<Figure size 432x288 with 1 Axes>"
      ]
     },
     "metadata": {
      "needs_background": "light"
     },
     "output_type": "display_data"
    }
   ],
   "source": [
    "c_age.plot(kind='bar')"
   ]
  },
  {
   "cell_type": "markdown",
   "id": "1b3dace3",
   "metadata": {},
   "source": [
    "High mean value for the credit grade D"
   ]
  },
  {
   "cell_type": "code",
   "execution_count": 47,
   "id": "65f5d2fa",
   "metadata": {},
   "outputs": [
    {
     "data": {
      "text/plain": [
       "<AxesSubplot:>"
      ]
     },
     "execution_count": 47,
     "metadata": {},
     "output_type": "execute_result"
    },
    {
     "data": {
      "image/png": "[encoded data removed]",
      "text/plain": [
       "<Figure size 432x288 with 1 Axes>"
      ]
     },
     "metadata": {
      "needs_background": "light"
     },
     "output_type": "display_data"
    }
   ],
   "source": [
    "c_age.plot(kind='box')"
   ]
  },
  {
   "cell_type": "markdown",
   "id": "6dc85329",
   "metadata": {},
   "source": [
    "Here we found an outlier , that is the case that falls in default status"
   ]
  },
  {
   "cell_type": "markdown",
   "id": "839c3979",
   "metadata": {},
   "source": [
    "# Regression "
   ]
  },
  {
   "cell_type": "markdown",
   "id": "b02dfd55",
   "metadata": {},
   "source": [
    "Borrower rae and the Debt to income ratio, we can check if there is any linear relationship between the 2 "
   ]
  },
  {
   "cell_type": "code",
   "execution_count": 51,
   "id": "d0a200b9",
   "metadata": {},
   "outputs": [],
   "source": [
    "x=df[['Borrower.Rate']]\n",
    "y=df[['Debt.To.Income.Ratio']]"
   ]
  },
  {
   "cell_type": "code",
   "execution_count": 52,
   "id": "957042f3",
   "metadata": {},
   "outputs": [],
   "source": [
    "model=LinearRegression().fit(x,y)"
   ]
  },
  {
   "cell_type": "code",
   "execution_count": 53,
   "id": "3c0ee5ab",
   "metadata": {
    "scrolled": true
   },
   "outputs": [
    {
     "data": {
      "text/plain": [
       "(array([[-0.0098502]]), array([0.02358827]))"
      ]
     },
     "execution_count": 53,
     "metadata": {},
     "output_type": "execute_result"
    }
   ],
   "source": [
    "model.coef_,model.intercept_"
   ]
  },
  {
   "cell_type": "markdown",
   "id": "aa902a6f",
   "metadata": {},
   "source": [
    "# the equation of the line comes out to be y= -0.0098502(x) + 0.02358827"
   ]
  },
  {
   "cell_type": "code",
   "execution_count": 54,
   "id": "3629aeae",
   "metadata": {
    "scrolled": true
   },
   "outputs": [
    {
     "data": {
      "text/plain": [
       "<AxesSubplot:xlabel='Borrower.Rate', ylabel='Debt.To.Income.Ratio'>"
      ]
     },
     "execution_count": 54,
     "metadata": {},
     "output_type": "execute_result"
    },
    {
     "data": {
      "image/png": "[encoded data removed]",
      "text/plain": [
       "<Figure size 432x288 with 1 Axes>"
      ]
     },
     "metadata": {
      "needs_background": "light"
     },
     "output_type": "display_data"
    }
   ],
   "source": [
    "sns.regplot(x='Borrower.Rate',y='Debt.To.Income.Ratio',data=df)"
   ]
  },
  {
   "cell_type": "markdown",
   "id": "344b69c4",
   "metadata": {},
   "source": [
    "# the above does not show any relationship with each other , we can say that they are very low correlated "
   ]
  },
  {
   "cell_type": "code",
   "execution_count": 55,
   "id": "5e0fbae7",
   "metadata": {},
   "outputs": [],
   "source": [
    "x1=df[['Amount']]\n",
    "y1=df[['Borrower.Rate']]"
   ]
  },
  {
   "cell_type": "code",
   "execution_count": 56,
   "id": "45f9e9d2",
   "metadata": {},
   "outputs": [],
   "source": [
    "mdl=LinearRegression().fit(x1,y1)"
   ]
  },
  {
   "cell_type": "code",
   "execution_count": 57,
   "id": "d3bc186e",
   "metadata": {},
   "outputs": [
    {
     "data": {
      "text/plain": [
       "(array([[-1.9937776e-05]]), array([0.20934761]))"
      ]
     },
     "execution_count": 57,
     "metadata": {},
     "output_type": "execute_result"
    }
   ],
   "source": [
    "mdl.coef_,mdl.intercept_"
   ]
  },
  {
   "cell_type": "markdown",
   "id": "a1787e3c",
   "metadata": {},
   "source": [
    "# the equation of the line comes out to be y= -1.9937776e-05(x) + 0.20934761"
   ]
  },
  {
   "cell_type": "code",
   "execution_count": 58,
   "id": "0130999a",
   "metadata": {},
   "outputs": [
    {
     "data": {
      "text/plain": [
       "<AxesSubplot:xlabel='Amount', ylabel='Borrower.Rate'>"
      ]
     },
     "execution_count": 58,
     "metadata": {},
     "output_type": "execute_result"
    },
    {
     "data": {
      "image/png": "[encoded data removed]",
      "text/plain": [
       "<Figure size 432x288 with 1 Axes>"
      ]
     },
     "metadata": {
      "needs_background": "light"
     },
     "output_type": "display_data"
    }
   ],
   "source": [
    "sns.regplot(x='Amount',y='Borrower.Rate',data=df)"
   ]
  },
  {
   "cell_type": "code",
   "execution_count": 65,
   "id": "09a8a905",
   "metadata": {},
   "outputs": [],
   "source": [
    "scaler=MinMaxScaler()\n",
    "scaled=scaler.fit_transform(df[['Amount']])"
   ]
  },
  {
   "cell_type": "code",
   "execution_count": 66,
   "id": "09262754",
   "metadata": {},
   "outputs": [
    {
     "data": {
      "text/plain": [
       "<AxesSubplot:ylabel='Borrower.Rate'>"
      ]
     },
     "execution_count": 66,
     "metadata": {},
     "output_type": "execute_result"
    },
    {
     "data": {
      "image/png": "[encoded data removed]",
      "text/plain": [
       "<Figure size 432x288 with 1 Axes>"
      ]
     },
     "metadata": {
      "needs_background": "light"
     },
     "output_type": "display_data"
    }
   ],
   "source": [
    "sns.regplot(x=scaled,y=df[['Borrower.Rate']])"
   ]
  },
  {
   "cell_type": "markdown",
   "id": "c1056e10",
   "metadata": {},
   "source": [
    "# Here we can see that there is a negative correlation between the borrower rate and the Amount , we even try to scale the data to see if that would make any diff , but it did not , they both show a negative correlation"
   ]
  },
  {
   "cell_type": "code",
   "execution_count": 68,
   "id": "2e2a08fd",
   "metadata": {},
   "outputs": [],
   "source": [
    "x2=df[['Debt.To.Income.Ratio']]\n",
    "y2=df[['Amount']]"
   ]
  },
  {
   "cell_type": "code",
   "execution_count": 69,
   "id": "ac347b80",
   "metadata": {},
   "outputs": [],
   "source": [
    "model2=LinearRegression().fit(x2,y2)"
   ]
  },
  {
   "cell_type": "code",
   "execution_count": 70,
   "id": "13cfd8fd",
   "metadata": {},
   "outputs": [
    {
     "data": {
      "text/plain": [
       "(array([[29258.02778045]]), array([1364.08403105]))"
      ]
     },
     "execution_count": 70,
     "metadata": {},
     "output_type": "execute_result"
    }
   ],
   "source": [
    "model2.coef_,model2.intercept_"
   ]
  },
  {
   "cell_type": "markdown",
   "id": "0e5bd744",
   "metadata": {},
   "source": [
    "# the equatuion for the line is y= 29258.02778045(x) + 1364.08403105"
   ]
  },
  {
   "cell_type": "code",
   "execution_count": 71,
   "id": "0819ce63",
   "metadata": {},
   "outputs": [
    {
     "data": {
      "text/plain": [
       "<AxesSubplot:xlabel='Debt.To.Income.Ratio', ylabel='Amount'>"
      ]
     },
     "execution_count": 71,
     "metadata": {},
     "output_type": "execute_result"
    },
    {
     "data": {
      "image/png": "[encoded data removed]",
      "text/plain": [
       "<Figure size 432x288 with 1 Axes>"
      ]
     },
     "metadata": {
      "needs_background": "light"
     },
     "output_type": "display_data"
    }
   ],
   "source": [
    "sns.regplot(x='Debt.To.Income.Ratio',y='Amount',data=df)"
   ]
  },
  {
   "cell_type": "markdown",
   "id": "4a9e4e94",
   "metadata": {},
   "source": [
    "# this explains above that why we had such unusual values for the coeff and the intercept , as we can see that there are multiple outliers here , while the relationship is positively correlated to each other"
   ]
  },
  {
   "cell_type": "markdown",
   "id": "e94dc89f",
   "metadata": {},
   "source": [
    "# we can also check using the scaled amount "
   ]
  },
  {
   "cell_type": "code",
   "execution_count": 72,
   "id": "636493b5",
   "metadata": {},
   "outputs": [
    {
     "data": {
      "text/plain": [
       "<AxesSubplot:ylabel='Debt.To.Income.Ratio'>"
      ]
     },
     "execution_count": 72,
     "metadata": {},
     "output_type": "execute_result"
    },
    {
     "data": {
      "image/png": "[encoded data removed]",
      "text/plain": [
       "<Figure size 432x288 with 1 Axes>"
      ]
     },
     "metadata": {
      "needs_background": "light"
     },
     "output_type": "display_data"
    }
   ],
   "source": [
    "sns.regplot(x=scaled,y=df[['Debt.To.Income.Ratio']])"
   ]
  },
  {
   "cell_type": "markdown",
   "id": "9bc06ec8",
   "metadata": {},
   "source": [
    "# the scaling here did solve the line a bit "
   ]
  },
  {
   "cell_type": "markdown",
   "id": "218c85fb",
   "metadata": {},
   "source": [
    "# Conclusion-From the data we can justify that the High credit grade will lead to high amount and  the Debt to income ratio , plus  low  borrower rate , which I find to be a good and a well designed as it was seen that the high amount do have people that have a high debt , It can be justified with the Above EDA that the Borrower rate decreses with the Increase in the Amount , which I think is as per the high debt amount with high loan amount values"
   ]
  },
  {
   "cell_type": "code",
   "execution_count": null,
   "id": "26c2e2ff",
   "metadata": {},
   "outputs": [],
   "source": []
  }
 ],
 "metadata": {
  "kernelspec": {
   "display_name": "Python 3",
   "language": "python",
   "name": "python3"
  },
  "language_info": {
   "codemirror_mode": {
    "name": "ipython",
    "version": 3
   },
   "file_extension": ".py",
   "mimetype": "text/x-python",
   "name": "python",
   "nbconvert_exporter": "python",
   "pygments_lexer": "ipython3",
   "version": "3.8.8"
  }
 },
 "nbformat": 4,
 "nbformat_minor": 5
}
